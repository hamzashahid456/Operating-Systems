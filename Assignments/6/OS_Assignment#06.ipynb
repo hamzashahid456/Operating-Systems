{
 "cells": [
  {
   "cell_type": "code",
   "execution_count": 4,
   "metadata": {},
   "outputs": [
    {
     "name": "stdout",
     "output_type": "stream",
     "text": [
      "main line\n",
      "module name: __main__\n",
      "parent process: 3396\n",
      "process id: 5897\n",
      "function f\n",
      "module name: __main__\n",
      "parent process: 5897\n",
      "process id: 6067\n",
      "hello bob\n",
      "\n",
      "\n",
      "\n",
      "function f\n",
      "module name: __main__\n",
      "parent process: 5897\n",
      "process id: 6104\n",
      "hello Margret\n",
      "\n",
      "\n",
      "\n",
      "function f\n",
      "module name: __main__\n",
      "parent process: 5897\n",
      "process id: 6141\n",
      "hello Lina\n"
     ]
    }
   ],
   "source": [
    "from multiprocessing import Process\n",
    "import os\n",
    "\n",
    "def info(title):\n",
    "    print(title)\n",
    "    print('module name:', __name__)\n",
    "    print('parent process:', os.getppid())\n",
    "    print('process id:', os.getpid())\n",
    "\n",
    "def f(name):\n",
    "    info('function f')\n",
    "    print('hello', name)\n",
    "\n",
    "if __name__ == '__main__':\n",
    "    info('main line')\n",
    "    p = Process(target=f, args=('bob',))\n",
    "    p.start()\n",
    "    p.join()\n",
    "    print(\"\\n\\n\")\n",
    "    q = Process(target=f, args=('Margret',))\n",
    "    q.start()\n",
    "    q.join()\n",
    "    print(\"\\n\\n\")\n",
    "    s = Process(target=f, args=('Lina',))\n",
    "    s.start()\n",
    "    s.join()"
   ]
  },
  {
   "cell_type": "code",
   "execution_count": null,
   "metadata": {},
   "outputs": [],
   "source": []
  }
 ],
 "metadata": {
  "kernelspec": {
   "display_name": "Python 3",
   "language": "python",
   "name": "python3"
  },
  "language_info": {
   "codemirror_mode": {
    "name": "ipython",
    "version": 3
   },
   "file_extension": ".py",
   "mimetype": "text/x-python",
   "name": "python",
   "nbconvert_exporter": "python",
   "pygments_lexer": "ipython3",
   "version": "3.8.3"
  }
 },
 "nbformat": 4,
 "nbformat_minor": 4
}
